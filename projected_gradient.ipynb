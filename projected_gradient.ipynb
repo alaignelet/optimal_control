{
 "cells": [
  {
   "cell_type": "code",
   "execution_count": 1,
   "metadata": {},
   "outputs": [],
   "source": [
    "import torch\n",
    "import numpy as np\n",
    "import torch.nn as nn\n",
    "import pandas as pd\n",
    "import matplotlib.pyplot as plt\n",
    "from pde import GenerateData, NeuralNet, LinearQuadraticRegulator2D\n",
    "from tqdm import tqdm"
   ]
  },
  {
   "cell_type": "markdown",
   "metadata": {},
   "source": [
    "## Functions to compute closest PSD"
   ]
  },
  {
   "cell_type": "code",
   "execution_count": 4,
   "metadata": {},
   "outputs": [],
   "source": [
    "from statsmodels.stats.correlation_tools import cov_nearest"
   ]
  },
  {
   "cell_type": "code",
   "execution_count": 77,
   "metadata": {},
   "outputs": [
    {
     "data": {
      "text/plain": [
       "array([[1., 1.],\n",
       "       [1., 1.]])"
      ]
     },
     "execution_count": 77,
     "metadata": {},
     "output_type": "execute_result"
    }
   ],
   "source": [
    "cov_nearest(A)"
   ]
  },
  {
   "cell_type": "code",
   "execution_count": 12,
   "metadata": {},
   "outputs": [],
   "source": [
    "# or there is this straightforward solution\n",
    "import numpy as np\n",
    "\n",
    "def get_near_psd(A):\n",
    "    C = (A + A.T)/2\n",
    "    eigval, eigvec = np.linalg.eig(C)\n",
    "    eigval[eigval < 0] = 0\n",
    "\n",
    "    return eigvec.dot(np.diag(eigval)).dot(eigvec.T)\n",
    "\n",
    "def is_pos_semidef(x):\n",
    "    return np.all(np.linalg.eigvals(x) >= 0)"
   ]
  },
  {
   "cell_type": "code",
   "execution_count": null,
   "metadata": {},
   "outputs": [],
   "source": []
  },
  {
   "cell_type": "markdown",
   "metadata": {},
   "source": [
    "## Functions for SGD optimizer (non used)"
   ]
  },
  {
   "cell_type": "code",
   "execution_count": null,
   "metadata": {},
   "outputs": [],
   "source": [
    "# we can develop our own optimiser (like what i did during the master thesis)\n",
    "# in the general case its almost impossible to project into the space of positive definite solution\n",
    "# but in the case of the parameters being the matrix, we can easily project? Do we really use this case?\n",
    "\n",
    "# because the logic so far is we train a NN with potentially a hundred parameters but we indeed output the upper half matrix of xVx\n",
    "# also we would like to use this for the unsupervised \n",
    "\n",
    "# check on google if there is a way to get the nearest positive definite matrix from an existing matrix?\n",
    "# this also depends on the norm we choose for the projection\n",
    "# https://math.stackexchange.com/questions/2776803/matrix-projection-onto-positive-semi-definite-cone-with-respect-to-the-spectral\n",
    "# https://stat.ethz.ch/R-manual/R-devel/library/Matrix/html/nearPD.html\n",
    "# https://stackoverflow.com/questions/10939213/how-can-i-calculate-the-nearest-positive-semi-definite-matrix\n",
    "# https://www.statsmodels.org/dev/generated/statsmodels.stats.correlation_tools.cov_nearest.html"
   ]
  },
  {
   "cell_type": "code",
   "execution_count": 48,
   "metadata": {},
   "outputs": [],
   "source": [
    "from torch import Tensor\n",
    "from torch.optim import Optimizer\n",
    "from torch.optim.optimizer import required\n",
    "from typing import List, Optional\n",
    "\n",
    "class SGD(Optimizer): \n",
    "    def __init__(self, params, lr=required, momentum=0, dampening=0,\n",
    "                 weight_decay=0, nesterov=False, *, maximize=False, foreach: Optional[bool] = None):\n",
    "        if lr is not required and lr < 0.0:\n",
    "            raise ValueError(\"Invalid learning rate: {}\".format(lr))\n",
    "        if momentum < 0.0:\n",
    "            raise ValueError(\"Invalid momentum value: {}\".format(momentum))\n",
    "        if weight_decay < 0.0:\n",
    "            raise ValueError(\"Invalid weight_decay value: {}\".format(weight_decay))\n",
    "\n",
    "        defaults = dict(lr=lr, momentum=momentum, dampening=dampening,\n",
    "                        weight_decay=weight_decay, nesterov=nesterov,\n",
    "                        maximize=maximize, foreach=foreach)\n",
    "        if nesterov and (momentum <= 0 or dampening != 0):\n",
    "            raise ValueError(\"Nesterov momentum requires a momentum and zero dampening\")\n",
    "        super(SGD, self).__init__(params, defaults)\n",
    "\n",
    "    def __setstate__(self, state):\n",
    "        super().__setstate__(state)\n",
    "        for group in self.param_groups:\n",
    "            group.setdefault('nesterov', False)\n",
    "            group.setdefault('maximize', False)\n",
    "            group.setdefault('foreach', None)\n",
    "\n",
    "    @torch.no_grad()\n",
    "    def step(self, closure=None):\n",
    "        \"\"\"Performs a single optimization step.\n",
    "\n",
    "        Args:\n",
    "            closure (callable, optional): A closure that reevaluates the model\n",
    "                and returns the loss.\n",
    "        \"\"\"\n",
    "        loss = None\n",
    "        if closure is not None:\n",
    "            with torch.enable_grad():\n",
    "                loss = closure()\n",
    "\n",
    "        for group in self.param_groups:\n",
    "            params_with_grad = []\n",
    "            d_p_list = []\n",
    "            momentum_buffer_list = []\n",
    "            has_sparse_grad = False\n",
    "\n",
    "            for p in group['params']:\n",
    "                if p.grad is not None:\n",
    "                    params_with_grad.append(p)\n",
    "                    d_p_list.append(p.grad)\n",
    "                    if p.grad.is_sparse:\n",
    "                        has_sparse_grad = True\n",
    "\n",
    "                    state = self.state[p]\n",
    "                    if 'momentum_buffer' not in state:\n",
    "                        momentum_buffer_list.append(None)\n",
    "                    else:\n",
    "                        momentum_buffer_list.append(state['momentum_buffer'])\n",
    "\n",
    "            sgd(params_with_grad,\n",
    "                d_p_list,\n",
    "                momentum_buffer_list,\n",
    "                weight_decay=group['weight_decay'],\n",
    "                momentum=group['momentum'],\n",
    "                lr=group['lr'],\n",
    "                dampening=group['dampening'],\n",
    "                nesterov=group['nesterov'],\n",
    "                maximize=group['maximize'],\n",
    "                has_sparse_grad=has_sparse_grad,\n",
    "                foreach=group['foreach'])\n",
    "\n",
    "            # update momentum_buffers in state\n",
    "            for p, momentum_buffer in zip(params_with_grad, momentum_buffer_list):\n",
    "                state = self.state[p]\n",
    "                state['momentum_buffer'] = momentum_buffer\n",
    "\n",
    "        return loss\n",
    "\n",
    "\n",
    "\n",
    "def sgd(params: List[Tensor],\n",
    "        d_p_list: List[Tensor],\n",
    "        momentum_buffer_list: List[Optional[Tensor]],\n",
    "        # kwonly args with defaults are not supported by functions compiled with torchscript issue #70627\n",
    "        # setting this as kwarg for now as functional API is compiled by torch/distributed/optim\n",
    "        has_sparse_grad: bool = None,\n",
    "        foreach: bool = None,\n",
    "        *,\n",
    "        weight_decay: float,\n",
    "        momentum: float,\n",
    "        lr: float,\n",
    "        dampening: float,\n",
    "        nesterov: bool,\n",
    "        maximize: bool):\n",
    "    \"\"\"Functional API that performs SGD algorithm computation.\n",
    "\n",
    "    See :class:`~torch.optim.SGD` for details.\n",
    "    \"\"\"\n",
    "\n",
    "    for i, param in enumerate(params):\n",
    "\n",
    "        d_p = d_p_list[i]\n",
    "        if weight_decay != 0:\n",
    "            d_p = d_p.add(param, alpha=weight_decay)\n",
    "\n",
    "        if momentum != 0:\n",
    "            buf = momentum_buffer_list[i]\n",
    "\n",
    "            if buf is None:\n",
    "                buf = torch.clone(d_p).detach()\n",
    "                momentum_buffer_list[i] = buf\n",
    "            else:\n",
    "                buf.mul_(momentum).add_(d_p, alpha=1 - dampening)\n",
    "\n",
    "            if nesterov:\n",
    "                d_p = d_p.add(buf, alpha=momentum)\n",
    "            else:\n",
    "                d_p = buf\n",
    "\n",
    "        alpha = lr if maximize else -lr\n",
    "        param.add_(d_p, alpha=alpha)"
   ]
  },
  {
   "cell_type": "code",
   "execution_count": null,
   "metadata": {},
   "outputs": [],
   "source": []
  },
  {
   "cell_type": "markdown",
   "metadata": {},
   "source": [
    "## Test with Neural Net"
   ]
  },
  {
   "cell_type": "code",
   "execution_count": 53,
   "metadata": {},
   "outputs": [],
   "source": [
    "# an alternative is also to just make the change when evaluating the value function?\n",
    "def _matrixEvaluated(self, x):\n",
    "    ''' The output of the network is the symetric matrix P.\n",
    "    '''        \n",
    "    \n",
    "    dim = x.shape[1]\n",
    "\n",
    "    # the below is SUPER fast\n",
    "    stackedMatrices = torch.zeros((x.shape[0], dim, dim)).to(self.device)\n",
    "    outputModel = self.model(x)\n",
    "\n",
    "    inds = np.triu_indices( dim )\n",
    "    k = 0\n",
    "    for i, j in zip( inds[0], inds[1] ):\n",
    "        stackedMatrices[:, i, j] = outputModel[:, k]\n",
    "        stackedMatrices[:, j, i] = outputModel[:, k]\n",
    "        k += 1\n",
    "\n",
    "    valueFunction = 0.5 * torch.einsum('ni, nij, nj -> n', x, stackedMatrices, x).reshape(-1, 1).to(self.device)\n",
    "\n",
    "    return valueFunction "
   ]
  },
  {
   "cell_type": "code",
   "execution_count": null,
   "metadata": {},
   "outputs": [],
   "source": [
    "def get_near_psd_torch(A):\n",
    "    C = (A + A.T)/2\n",
    "    eigval, eigvec = torch.linalg.eigh(C)\n",
    "    eigval[eigval < 0] = 0\n",
    "\n",
    "    return eigvec @ torch.diag(eigval) @ eigvec.T"
   ]
  },
  {
   "cell_type": "code",
   "execution_count": 54,
   "metadata": {},
   "outputs": [],
   "source": [
    "np.random.seed(0)\n",
    "xData = generateData.samplePoints(pointCount=pointCount)"
   ]
  },
  {
   "cell_type": "code",
   "execution_count": 58,
   "metadata": {},
   "outputs": [],
   "source": [
    "dim = xData.shape[1]\n",
    "stackedMatrices = torch.zeros((xData.shape[0], dim, dim))"
   ]
  },
  {
   "cell_type": "code",
   "execution_count": 61,
   "metadata": {},
   "outputs": [],
   "source": [
    "outputModel = network.model(xData)"
   ]
  },
  {
   "cell_type": "code",
   "execution_count": 78,
   "metadata": {},
   "outputs": [],
   "source": [
    "inds = np.triu_indices( dim )\n",
    "k = 0\n",
    "for i, j in zip( inds[0], inds[1] ):\n",
    "    stackedMatrices[:, i, j] = outputModel[:, k]\n",
    "    stackedMatrices[:, j, i] = outputModel[:, k]\n",
    "    k += 1"
   ]
  },
  {
   "cell_type": "code",
   "execution_count": 122,
   "metadata": {},
   "outputs": [],
   "source": [
    "stackedMatricesPsd = torch.zeros_like( stackedMatrices )"
   ]
  },
  {
   "cell_type": "code",
   "execution_count": 124,
   "metadata": {},
   "outputs": [],
   "source": [
    "for i, mat in enumerate(stackedMatrices):\n",
    "    stackedMatricesPsd[i] = get_near_psd_torch(mat)"
   ]
  },
  {
   "cell_type": "code",
   "execution_count": null,
   "metadata": {},
   "outputs": [],
   "source": []
  },
  {
   "cell_type": "code",
   "execution_count": 2,
   "metadata": {},
   "outputs": [],
   "source": [
    "layers = [2, 20, 3]\n",
    "network = NeuralNet(layers=layers, quadraticForm=True, useAdditionalModel=False, positiveSolution=False)\n",
    "gamma = {'matrix':0, 'residual':0., 'data':1, 'gradient':0}\n",
    "lqr = LinearQuadraticRegulator2D(network=network, gamma=gamma, correctShift=False)\n",
    "\n",
    "pointCount = 100\n",
    "generateData = GenerateData(domain=([-1, 1], [-1, 1]))\n",
    "\n",
    "lrs = [1e-1, 1e-2]\n",
    "iterations = [1000, 2000]"
   ]
  },
  {
   "cell_type": "code",
   "execution_count": 3,
   "metadata": {},
   "outputs": [
    {
     "ename": "RuntimeError",
     "evalue": "one of the variables needed for gradient computation has been modified by an inplace operation: [torch.FloatTensor [2]], which is output 0 of LinalgEighBackward, is at version 1; expected version 0 instead. Hint: enable anomaly detection to find the operation that failed to compute its gradient, with torch.autograd.set_detect_anomaly(True).",
     "output_type": "error",
     "traceback": [
      "\u001b[0;31m---------------------------------------------------------------------------\u001b[0m",
      "\u001b[0;31mRuntimeError\u001b[0m                              Traceback (most recent call last)",
      "\u001b[0;32m<ipython-input-3-3806eb99fae7>\u001b[0m in \u001b[0;36m<module>\u001b[0;34m\u001b[0m\n\u001b[1;32m     16\u001b[0m \u001b[0;34m\u001b[0m\u001b[0m\n\u001b[1;32m     17\u001b[0m         \u001b[0;31m# residual\u001b[0m\u001b[0;34m\u001b[0m\u001b[0;34m\u001b[0m\u001b[0;34m\u001b[0m\u001b[0m\n\u001b[0;32m---> 18\u001b[0;31m         \u001b[0mgradInt\u001b[0m \u001b[0;34m=\u001b[0m \u001b[0mnetwork\u001b[0m\u001b[0;34m.\u001b[0m\u001b[0mcomputeValueFunctionDerivative\u001b[0m\u001b[0;34m(\u001b[0m\u001b[0mxInt\u001b[0m\u001b[0;34m,\u001b[0m \u001b[0mpsd\u001b[0m\u001b[0;34m=\u001b[0m\u001b[0;32mTrue\u001b[0m\u001b[0;34m)\u001b[0m\u001b[0;34m\u001b[0m\u001b[0;34m\u001b[0m\u001b[0m\n\u001b[0m\u001b[1;32m     19\u001b[0m         \u001b[0;31m#equation = lqr.computeHamiltonJacobiEquation(xInt, gradInt)\u001b[0m\u001b[0;34m\u001b[0m\u001b[0;34m\u001b[0m\u001b[0;34m\u001b[0m\u001b[0m\n\u001b[1;32m     20\u001b[0m         \u001b[0;31m#loss = torch.mean( equation**2 )\u001b[0m\u001b[0;34m\u001b[0m\u001b[0;34m\u001b[0m\u001b[0;34m\u001b[0m\u001b[0m\n",
      "\u001b[0;32m~/Documents/08_PhD/pde_project/optimal_control/pde.py\u001b[0m in \u001b[0;36mcomputeValueFunctionDerivative\u001b[0;34m(self, x, psd)\u001b[0m\n\u001b[1;32m    105\u001b[0m         \u001b[0;32melse\u001b[0m\u001b[0;34m:\u001b[0m\u001b[0;34m\u001b[0m\u001b[0;34m\u001b[0m\u001b[0m\n\u001b[1;32m    106\u001b[0m             \u001b[0mvalueFunction\u001b[0m \u001b[0;34m=\u001b[0m \u001b[0mself\u001b[0m\u001b[0;34m.\u001b[0m\u001b[0mcomputeValueFunction\u001b[0m\u001b[0;34m(\u001b[0m\u001b[0mx\u001b[0m\u001b[0;34m)\u001b[0m\u001b[0;34m\u001b[0m\u001b[0;34m\u001b[0m\u001b[0m\n\u001b[0;32m--> 107\u001b[0;31m         \u001b[0;32mreturn\u001b[0m \u001b[0mself\u001b[0m\u001b[0;34m.\u001b[0m\u001b[0mpartialDerivative\u001b[0m\u001b[0;34m(\u001b[0m \u001b[0mtensorToDerive\u001b[0m\u001b[0;34m=\u001b[0m\u001b[0mvalueFunction\u001b[0m\u001b[0;34m,\u001b[0m \u001b[0mx\u001b[0m\u001b[0;34m=\u001b[0m\u001b[0mx\u001b[0m\u001b[0;34m)\u001b[0m\u001b[0;34m\u001b[0m\u001b[0;34m\u001b[0m\u001b[0m\n\u001b[0m\u001b[1;32m    108\u001b[0m \u001b[0;34m\u001b[0m\u001b[0m\n\u001b[1;32m    109\u001b[0m \u001b[0;34m\u001b[0m\u001b[0m\n",
      "\u001b[0;32m~/Documents/08_PhD/pde_project/optimal_control/pde.py\u001b[0m in \u001b[0;36mpartialDerivative\u001b[0;34m(self, tensorToDerive, x)\u001b[0m\n\u001b[1;32m     94\u001b[0m \u001b[0;34m\u001b[0m\u001b[0m\n\u001b[1;32m     95\u001b[0m     \u001b[0;32mdef\u001b[0m \u001b[0mpartialDerivative\u001b[0m\u001b[0;34m(\u001b[0m\u001b[0mself\u001b[0m\u001b[0;34m,\u001b[0m \u001b[0mtensorToDerive\u001b[0m\u001b[0;34m,\u001b[0m \u001b[0mx\u001b[0m\u001b[0;34m)\u001b[0m\u001b[0;34m:\u001b[0m\u001b[0;34m\u001b[0m\u001b[0;34m\u001b[0m\u001b[0m\n\u001b[0;32m---> 96\u001b[0;31m         grad = torch.autograd.grad(\n\u001b[0m\u001b[1;32m     97\u001b[0m                 outputs=tensorToDerive, inputs=x, grad_outputs=torch.ones_like(tensorToDerive), create_graph=True)[0]\n\u001b[1;32m     98\u001b[0m \u001b[0;34m\u001b[0m\u001b[0m\n",
      "\u001b[0;32m/usr/local/lib/python3.9/site-packages/torch/autograd/__init__.py\u001b[0m in \u001b[0;36mgrad\u001b[0;34m(outputs, inputs, grad_outputs, retain_graph, create_graph, only_inputs, allow_unused)\u001b[0m\n\u001b[1;32m    221\u001b[0m         \u001b[0mretain_graph\u001b[0m \u001b[0;34m=\u001b[0m \u001b[0mcreate_graph\u001b[0m\u001b[0;34m\u001b[0m\u001b[0;34m\u001b[0m\u001b[0m\n\u001b[1;32m    222\u001b[0m \u001b[0;34m\u001b[0m\u001b[0m\n\u001b[0;32m--> 223\u001b[0;31m     return Variable._execution_engine.run_backward(\n\u001b[0m\u001b[1;32m    224\u001b[0m         \u001b[0moutputs\u001b[0m\u001b[0;34m,\u001b[0m \u001b[0mgrad_outputs_\u001b[0m\u001b[0;34m,\u001b[0m \u001b[0mretain_graph\u001b[0m\u001b[0;34m,\u001b[0m \u001b[0mcreate_graph\u001b[0m\u001b[0;34m,\u001b[0m\u001b[0;34m\u001b[0m\u001b[0;34m\u001b[0m\u001b[0m\n\u001b[1;32m    225\u001b[0m         inputs, allow_unused, accumulate_grad=False)\n",
      "\u001b[0;31mRuntimeError\u001b[0m: one of the variables needed for gradient computation has been modified by an inplace operation: [torch.FloatTensor [2]], which is output 0 of LinalgEighBackward, is at version 1; expected version 0 instead. Hint: enable anomaly detection to find the operation that failed to compute its gradient, with torch.autograd.set_detect_anomaly(True)."
     ]
    }
   ],
   "source": [
    "np.random.seed(0)\n",
    "xData = generateData.samplePoints(pointCount=pointCount)\n",
    "xEvaluation = generateData.sampleGrid(nPoint=100)\n",
    "yTrue = lqr.dataValueFunction(xData.detach())\n",
    "\n",
    "epochTotal = 0\n",
    "info = []\n",
    "\n",
    "for lr, iteration in zip(lrs, iterations):\n",
    "    optimizer = torch.optim.Adam(params=network.model.parameters(), lr=lr)\n",
    "    # optimizer = SGD(params=network.model.parameters(), lr=lr)\n",
    "\n",
    "        \n",
    "    for epoch in range(iteration):\n",
    "        xInt = generateData.samplePoints(pointCount)\n",
    "        \n",
    "        # residual\n",
    "        gradInt = network.computeValueFunctionDerivative(xInt, psd=True)\n",
    "        #equation = lqr.computeHamiltonJacobiEquation(xInt, gradInt)\n",
    "        #loss = torch.mean( equation**2 )\n",
    "\n",
    "        # data\n",
    "        yData = network.computeValueFunction(xData)\n",
    "        loss = torch.mean( (yData.double() - yTrue.double())**2 ).float()\n",
    "\n",
    "        optimizer.zero_grad()\n",
    "        loss.backward()\n",
    "        optimizer.step()\n",
    "\n",
    "\n",
    "        # print logs\n",
    "        if (epochTotal % 100 == 0):\n",
    "            print('%d / %d (%d / %d), lr:%.1e, loss:%.2e' % (\n",
    "                epochTotal, sum(iterations), epoch, iteration, lr, loss\n",
    "                )\n",
    "            )\n",
    "\n",
    "            yEvaluation = network.computeValueFunction(xEvaluation)\n",
    "            yEvaluationTrue = lqr.dataValueFunction(xEvaluation).reshape(-1, 1)\n",
    "            mse = torch.mean( (yEvaluation.double() - yEvaluationTrue.double())**2 ).float()\n",
    "\n",
    "\n",
    "        epochTotal += 1\n",
    "        info_dict = {\n",
    "            'xData': xData,\n",
    "            'epoch': epochTotal,\n",
    "            'mse': mse.detach().cpu().numpy().item(),\n",
    "            'loss': loss.detach().cpu().numpy().item()\n",
    "            }\n",
    "        info.append(info_dict)\n",
    "\n",
    "info = pd.DataFrame( info )"
   ]
  },
  {
   "cell_type": "code",
   "execution_count": 129,
   "metadata": {},
   "outputs": [
    {
     "data": {
      "image/png": "[encoded data removed]",
      "text/plain": [
       "<Figure size 432x288 with 1 Axes>"
      ]
     },
     "metadata": {
      "needs_background": "light"
     },
     "output_type": "display_data"
    }
   ],
   "source": [
    "fig, ax = plt.subplots()\n",
    "info['loss'].plot(ax=ax)\n",
    "info['mse'].plot(ax=ax)\n",
    "ax.set_yscale('log')\n",
    "ax.legend();"
   ]
  },
  {
   "cell_type": "code",
   "execution_count": 130,
   "metadata": {},
   "outputs": [
    {
     "data": {
      "image/png": "[encoded data removed]",
      "text/plain": [
       "<Figure size 432x288 with 1 Axes>"
      ]
     },
     "metadata": {
      "needs_background": "light"
     },
     "output_type": "display_data"
    }
   ],
   "source": [
    "x = np.linspace(-1, 1, 100)\n",
    "y = np.linspace(-1, 1, 100)\n",
    "\n",
    "X, Y = np.meshgrid(x, y)\n",
    "space = lqr.getEvaluationPoints()\n",
    "\n",
    "Z = network.computeValueFunction(space).reshape(-1, 100)\n",
    "\n",
    "ax = plt.axes(projection='3d')\n",
    "ax.plot_surface(X, Y, Z.detach().cpu().numpy(), cmap='viridis');"
   ]
  },
  {
   "cell_type": "code",
   "execution_count": null,
   "metadata": {},
   "outputs": [],
   "source": []
  }
 ],
 "metadata": {
  "kernelspec": {
   "display_name": "Python 3.9.1 64-bit",
   "language": "python",
   "name": "python3"
  },
  "language_info": {
   "codemirror_mode": {
    "name": "ipython",
    "version": 3
   },
   "file_extension": ".py",
   "mimetype": "text/x-python",
   "name": "python",
   "nbconvert_exporter": "python",
   "pygments_lexer": "ipython3",
   "version": "3.9.1"
  },
  "orig_nbformat": 4,
  "vscode": {
   "interpreter": {
    "hash": "aee8b7b246df8f9039afb4144a1f6fd8d2ca17a180786b69acc140d282b71a49"
   }
  }
 },
 "nbformat": 4,
 "nbformat_minor": 2
}
